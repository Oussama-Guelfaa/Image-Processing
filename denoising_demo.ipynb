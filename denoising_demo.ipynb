{
 "cells": [
  {
   "cell_type": "markdown",
   "metadata": {},
   "source": [
    "# Image Denoising Demonstration\n",
    "\n",
    "This notebook demonstrates various image denoising techniques, with a focus on salt and pepper noise removal.\n",
    "\n",
    "**Author:** Oussama GUELFAA  \n",
    "**Date:** 01-04-2025"
   ]
  },
  {
   "cell_type": "markdown",
   "metadata": {},
   "source": [
    "## 1. Setup and Imports"
   ]
  },
  {
   "cell_type": "code",
   "execution_count": null,
   "metadata": {},
   "outputs": [],
   "source": [
    "import os\n",
    "import sys\n",
    "import numpy as np\n",
    "import matplotlib.pyplot as plt\n",
    "from skimage import io, img_as_float\n",
    "from skimage.util import random_noise\n",
    "\n",
    "# Add the project root to the Python path\n",
    "sys.path.append(os.path.dirname(os.path.abspath('')))\n",
    "\n",
    "# Import the denoising module\n",
    "from src.image_processing.denoising import (\n",
    "    add_noise_to_image,\n",
    "    apply_mean_filter,\n",
    "    apply_median_filter,\n",
    "    apply_gaussian_filter,\n",
    "    apply_bilateral_filter,\n",
    "    compare_denoising_methods\n",
    ")\n",
    "from src.image_processing.denoising.adaptive_median import adaptive_median_filter\n",
    "from src.image_processing.denoising.noise_generation import load_image\n",
    "\n",
    "# Configure matplotlib for better display in notebook\n",
    "%matplotlib inline\n",
    "plt.rcParams['figure.figsize'] = (10, 10)\n",
    "plt.rcParams['image.cmap'] = 'gray'"
   ]
  },
  {
   "cell_type": "markdown",
   "metadata": {},
   "source": [
    "## 2. Load the Test Image"
   ]
  },
  {
   "cell_type": "code",
   "execution_count": null,
   "metadata": {},
   "outputs": [],
   "source": [
    "# Load the image\n",
    "image_path = os.path.join(\"data\", \"jambe.png\")\n",
    "image = load_image(image_path)\n",
    "\n",
    "print(\"Loaded image:\", image_path)\n",
    "print(\"Image shape:\", image.shape)\n",
    "print(\"Image min/max values:\", image.min(), image.max())\n",
    "\n",
    "# Display the original image\n",
    "plt.figure()\n",
    "plt.imshow(image)\n",
    "plt.title(\"Original Image\")\n",
    "plt.axis('off')\n",
    "plt.show()"
   ]
  },
  {
   "cell_type": "markdown",
   "metadata": {},
   "source": [
    "## 3. Add Salt and Pepper Noise"
   ]
  },
  {
   "cell_type": "code",
   "execution_count": null,
   "metadata": {},
   "outputs": [],
   "source": [
    "# Add salt and pepper noise\n",
    "noise_level = 0.1  # 10% of pixels affected\n",
    "noisy_image = random_noise(image, mode='s&p', amount=noise_level, salt_vs_pepper=0.5)\n",
    "\n",
    "# Display the noisy image\n",
    "plt.figure()\n",
    "plt.imshow(noisy_image)\n",
    "plt.title(\"Noisy Image (Salt and Pepper)\")\n",
    "plt.axis('off')\n",
    "plt.show()"
   ]
  },
  {
   "cell_type": "markdown",
   "metadata": {},
   "source": [
    "## 4. Apply Different Filters\n",
    "\n",
    "### 4.1 Maximum Filter"
   ]
  },
  {
   "cell_type": "code",
   "execution_count": null,
   "metadata": {},
   "outputs": [],
   "source": [
    "# Define a function to apply maximum filter\n",
    "def apply_max_filter(image, kernel_size=3):\n",
    "    \"\"\"\n",
    "    Apply a maximum filter to an image.\n",
    "    \n",
    "    Args:\n",
    "        image (ndarray): Input image\n",
    "        kernel_size (int): Size of the filter kernel (default: 3)\n",
    "        \n",
    "    Returns:\n",
    "        ndarray: Filtered image\n",
    "    \"\"\"\n",
    "    # Convert to uint8 for rank filters\n",
    "    from skimage import img_as_ubyte, img_as_float\n",
    "    from skimage.morphology import disk\n",
    "    from skimage.filters.rank import maximum\n",
    "    \n",
    "    image_uint8 = img_as_ubyte(image)\n",
    "    \n",
    "    # Create a disk-shaped structuring element\n",
    "    selem = disk(kernel_size // 2)\n",
    "    \n",
    "    # Apply maximum filter\n",
    "    filtered_uint8 = maximum(image_uint8, selem)\n",
    "    filtered = img_as_float(filtered_uint8)\n",
    "    \n",
    "    return filtered\n",
    "\n",
    "# Apply maximum filter\n",
    "max_filtered = apply_max_filter(noisy_image, kernel_size=5)\n",
    "\n",
    "# Display the filtered image\n",
    "plt.figure()\n",
    "plt.imshow(max_filtered)\n",
    "plt.title(\"Maximum Filter\")\n",
    "plt.axis('off')\n",
    "plt.show()"
   ]
  },
  {
   "cell_type": "markdown",
   "metadata": {},
   "source": [
    "### 4.2 Minimum Filter"
   ]
  },
  {
   "cell_type": "code",
   "execution_count": null,
   "metadata": {},
   "outputs": [],
   "source": [
    "# Define a function to apply minimum filter\n",
    "def apply_min_filter(image, kernel_size=3):\n",
    "    \"\"\"\n",
    "    Apply a minimum filter to an image.\n",
    "    \n",
    "    Args:\n",
    "        image (ndarray): Input image\n",
    "        kernel_size (int): Size of the filter kernel (default: 3)\n",
    "        \n",
    "    Returns:\n",
    "        ndarray: Filtered image\n",
    "    \"\"\"\n",
    "    # Convert to uint8 for rank filters\n",
    "    from skimage import img_as_ubyte, img_as_float\n",
    "    from skimage.morphology import disk\n",
    "    from skimage.filters.rank import minimum\n",
    "    \n",
    "    image_uint8 = img_as_ubyte(image)\n",
    "    \n",
    "    # Create a disk-shaped structuring element\n",
    "    selem = disk(kernel_size // 2)\n",
    "    \n",
    "    # Apply minimum filter\n",
    "    filtered_uint8 = minimum(image_uint8, selem)\n",
    "    filtered = img_as_float(filtered_uint8)\n",
    "    \n",
    "    return filtered\n",
    "\n",
    "# Apply minimum filter\n",
    "min_filtered = apply_min_filter(noisy_image, kernel_size=5)\n",
    "\n",
    "# Display the filtered image\n",
    "plt.figure()\n",
    "plt.imshow(min_filtered)\n",
    "plt.title(\"Minimum Filter\")\n",
    "plt.axis('off')\n",
    "plt.show()"
   ]
  },
  {
   "cell_type": "markdown",
   "metadata": {},
   "source": [
    "### 4.3 Mean Filter"
   ]
  },
  {
   "cell_type": "code",
   "execution_count": null,
   "metadata": {},
   "outputs": [],
   "source": [
    "# Apply mean filter\n",
    "mean_filtered = apply_mean_filter(noisy_image, kernel_size=5)\n",
    "\n",
    "# Display the filtered image\n",
    "plt.figure()\n",
    "plt.imshow(mean_filtered)\n",
    "plt.title(\"Mean Filter\")\n",
    "plt.axis('off')\n",
    "plt.show()"
   ]
  },
  {
   "cell_type": "markdown",
   "metadata": {},
   "source": [
    "### 4.4 Median Filter"
   ]
  },
  {
   "cell_type": "code",
   "execution_count": null,
   "metadata": {},
   "outputs": [],
   "source": [
    "# Apply median filter\n",
    "median_filtered = apply_median_filter(noisy_image, kernel_size=5)\n",
    "\n",
    "# Display the filtered image\n",
    "plt.figure()\n",
    "plt.imshow(median_filtered)\n",
    "plt.title(\"Median Filter\")\n",
    "plt.axis('off')\n",
    "plt.show()"
   ]
  },
  {
   "cell_type": "markdown",
   "metadata": {},
   "source": [
    "### 4.5 Adaptive Median Filter"
   ]
  },
  {
   "cell_type": "code",
   "execution_count": null,
   "metadata": {},
   "outputs": [],
   "source": [
    "# Apply adaptive median filter\n",
    "adaptive_filtered = adaptive_median_filter(noisy_image, max_window_size=7)\n",
    "\n",
    "# Display the filtered image\n",
    "plt.figure()\n",
    "plt.imshow(adaptive_filtered)\n",
    "plt.title(\"Adaptive Median Filter\")\n",
    "plt.axis('off')\n",
    "plt.show()"
   ]
  },
  {
   "cell_type": "markdown",
   "metadata": {},
   "source": [
    "## 5. Compare All Filters"
   ]
  },
  {
   "cell_type": "code",
   "execution_count": null,
   "metadata": {},
   "outputs": [],
   "source": [
    "# Create a figure similar to the one in the TP\n",
    "fig = plt.figure(figsize=(12, 12))\n",
    "fig.suptitle(\"Figure 5.7: Different filters applied to the noisy image. The median filter is particularly adapted\\nin the case of salt and pepper noise (impulse noise), but still destroy the structures observed in the images.\", fontsize=10, y=0.98)\n",
    "\n",
    "# Create a 3x2 grid for the subplots\n",
    "gs = fig.add_gridspec(3, 2, hspace=0.2, wspace=0.1)\n",
    "\n",
    "# Original image\n",
    "ax1 = fig.add_subplot(gs[0, 0])\n",
    "ax1.imshow(image)\n",
    "ax1.set_title('(a) Original image.')\n",
    "ax1.axis('off')\n",
    "\n",
    "# Noisy image\n",
    "ax2 = fig.add_subplot(gs[0, 1])\n",
    "ax2.imshow(noisy_image)\n",
    "ax2.set_title('(b) Noisy image (salt and pepper).')\n",
    "ax2.axis('off')\n",
    "\n",
    "# Maximum filter\n",
    "ax3 = fig.add_subplot(gs[1, 0])\n",
    "ax3.imshow(max_filtered)\n",
    "ax3.set_title('(c) Maximum filter.')\n",
    "ax3.axis('off')\n",
    "\n",
    "# Minimum filter\n",
    "ax4 = fig.add_subplot(gs[1, 1])\n",
    "ax4.imshow(min_filtered)\n",
    "ax4.set_title('(d) Minimum filter.')\n",
    "ax4.axis('off')\n",
    "\n",
    "# Mean filter\n",
    "ax5 = fig.add_subplot(gs[2, 0])\n",
    "ax5.imshow(mean_filtered)\n",
    "ax5.set_title('(e) Mean filter.')\n",
    "ax5.axis('off')\n",
    "\n",
    "# Median filter\n",
    "ax6 = fig.add_subplot(gs[2, 1])\n",
    "ax6.imshow(median_filtered)\n",
    "ax6.set_title('(f) Median filter.')\n",
    "ax6.axis('off')\n",
    "\n",
    "# Adjust layout\n",
    "plt.subplots_adjust(top=0.92)\n",
    "plt.show()\n",
    "\n",
    "# Save the figure\n",
    "os.makedirs('output', exist_ok=True)\n",
    "plt.savefig('output/filter_comparison_notebook.png', dpi=300, bbox_inches='tight')"
   ]
  },
  {
   "cell_type": "markdown",
   "metadata": {},
   "source": [
    "## 6. Quantitative Comparison\n",
    "\n",
    "Let's compare the performance of different filters using Peak Signal-to-Noise Ratio (PSNR)."
   ]
  },
  {
   "cell_type": "code",
   "execution_count": null,
   "metadata": {},
   "outputs": [],
   "source": [
    "# Define a function to calculate PSNR\n",
    "def calculate_psnr(original, filtered):\n",
    "    \"\"\"Calculate Peak Signal-to-Noise Ratio (PSNR) between two images.\"\"\"\n",
    "    mse = np.mean((original - filtered) ** 2)\n",
    "    if mse == 0:\n",
    "        return float('inf')\n",
    "    max_pixel = 1.0\n",
    "    psnr = 20 * np.log10(max_pixel / np.sqrt(mse))\n",
    "    return psnr\n",
    "\n",
    "# Calculate PSNR for each method\n",
    "psnr_noisy = calculate_psnr(image, noisy_image)\n",
    "psnr_max = calculate_psnr(image, max_filtered)\n",
    "psnr_min = calculate_psnr(image, min_filtered)\n",
    "psnr_mean = calculate_psnr(image, mean_filtered)\n",
    "psnr_median = calculate_psnr(image, median_filtered)\n",
    "psnr_adaptive = calculate_psnr(image, adaptive_filtered)\n",
    "\n",
    "# Create a table of results\n",
    "results = {\n",
    "    'Method': ['Noisy Image', 'Maximum Filter', 'Minimum Filter', 'Mean Filter', 'Median Filter', 'Adaptive Median Filter'],\n",
    "    'PSNR (dB)': [psnr_noisy, psnr_max, psnr_min, psnr_mean, psnr_median, psnr_adaptive]\n",
    "}\n",
    "\n",
    "# Display the results\n",
    "from IPython.display import display\n",
    "import pandas as pd\n",
    "\n",
    "df = pd.DataFrame(results)\n",
    "display(df)\n",
    "\n",
    "# Plot the results\n",
    "plt.figure(figsize=(10, 6))\n",
    "plt.bar(results['Method'], results['PSNR (dB)'])\n",
    "plt.title('PSNR Comparison of Different Filters')\n",
    "plt.ylabel('PSNR (dB)')\n",
    "plt.xticks(rotation=45, ha='right')\n",
    "plt.tight_layout()\n",
    "plt.show()"
   ]
  },
  {
   "cell_type": "markdown",
   "metadata": {},
   "source": [
    "## 7. Conclusion\n",
    "\n",
    "In this notebook, we've demonstrated various filtering techniques for removing salt and pepper noise from images:\n",
    "\n",
    "1. **Maximum Filter**: Effective for removing 'pepper' noise (dark pixels) but amplifies 'salt' noise (bright pixels).\n",
    "2. **Minimum Filter**: Effective for removing 'salt' noise but amplifies 'pepper' noise.\n",
    "3. **Mean Filter**: Reduces random noise but blurs edges and fine details.\n",
    "4. **Median Filter**: Excellent for salt and pepper noise removal while preserving edges better than the mean filter.\n",
    "5. **Adaptive Median Filter**: Best overall performance, especially for high noise densities, as it adapts the filter size based on local image characteristics.\n",
    "\n",
    "The median filter and adaptive median filter are particularly well-suited for salt and pepper noise removal, as they can effectively eliminate impulse noise while preserving important image features."
   ]
  }
 ],
 "metadata": {
  "kernelspec": {
   "display_name": "Python 3",
   "language": "python",
   "name": "python3"
  },
  "language_info": {
   "codemirror_mode": {
    "name": "ipython",
    "version": 3
   },
   "file_extension": ".py",
   "mimetype": "text/x-python",
   "name": "python",
   "nbconvert_exporter": "python",
   "pygments_lexer": "ipython3",
   "version": "3.8.5"
  }
 },
 "nbformat": 4,
 "nbformat_minor": 4
}
